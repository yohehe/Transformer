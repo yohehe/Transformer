{
 "cells": [
  {
   "cell_type": "markdown",
   "metadata": {},
   "source": [
    "# TransformerEncoderLayer+TransformerDecoderLayer\n",
    "\n",
    "https://www.jianshu.com/p/3ee76c01236b"
   ]
  },
  {
   "cell_type": "markdown",
   "metadata": {},
   "source": [
    "## import Packages"
   ]
  },
  {
   "cell_type": "code",
   "execution_count": 46,
   "metadata": {},
   "outputs": [],
   "source": [
    "import numpy as np\n",
    "import matplotlib.pyplot as plt\n",
    "import pandas as pd\n",
    "import seaborn as sns\n",
    "import os\n",
    "import pathlib\n",
    "from pprint import pprint\n",
    "\n",
    "#img\n",
    "import cv2\n",
    "\n",
    "#pytorch\n",
    "import torch\n",
    "from torch import nn\n",
    "from torch import functional as F\n",
    "from torch import optim\n",
    "from torch.utils.data import Dataset,DataLoader,random_split\n",
    "from torchvision import transforms\n",
    "from torch.nn import Module\n",
    "from torchvision import models\n",
    "from PIL import Image\n"
   ]
  },
  {
   "cell_type": "markdown",
   "metadata": {},
   "source": [
    "## 1. torch.nn.TransformerEncoderLayer(d_model, nhead, dim_feedforward=2048, dropout=0.1, activation='relu')\n",
    "TransformerEncoderLayer is made up of self-attn and feedforward network. This standard encoder layer is based on the paper “Attention Is All You Need”. Ashish Vaswani, Noam Shazeer, Niki Parmar, Jakob Uszkoreit, Llion Jones, Aidan N Gomez, Lukasz Kaiser, and Illia Polosukhin. 2017. Attention is all you need. In Advances in Neural Information Processing Systems, pages 6000-6010. Users may modify or implement in a different way during application.\n",
    "\n",
    "Parameters:\n",
    ">d_model – the number of expected features in the input (required).\\\n",
    "nhead – the number of heads in the multiheadattention models (required).\\\n",
    "dim_feedforward – the dimension of the feedforward network model (default=2048).\\\n",
    "dropout – the dropout value (default=0.1).\\\n",
    "activation – the activation function of intermediate layer, relu or gelu\n",
    "(default=relu).\n",
    "\n",
    "Examples:\n"
   ]
  },
  {
   "cell_type": "code",
   "execution_count": 47,
   "metadata": {},
   "outputs": [
    {
     "name": "stdout",
     "output_type": "stream",
     "text": [
      "torch.Size([10, 32, 512])\n"
     ]
    }
   ],
   "source": [
    "encoder_layer = nn.TransformerEncoderLayer(d_model=512, nhead=8)\n",
    "src = torch.rand(10, 32, 512)\n",
    "out = encoder_layer(src)\n",
    "print(out.size())"
   ]
  },
  {
   "cell_type": "markdown",
   "metadata": {},
   "source": [
    "forward(src, src_mask=None, src_key_padding_mask=None)\n",
    "\n",
    "Pass the input through the encoder layer.\n",
    "\n",
    "Parameters:\n",
    ">src – the sequence to the encoder layer (required).\\\n",
    "src_mask – the mask for the src sequence (optional).\\\n",
    "src_key_padding_mask – the mask for the src keys per batch (optional).\n"
   ]
  },
  {
   "cell_type": "markdown",
   "metadata": {},
   "source": [
    "### SOURCE CODE"
   ]
  },
  {
   "cell_type": "code",
   "execution_count": 48,
   "metadata": {},
   "outputs": [],
   "source": [
    "class TransformerEncoderLayer(Module):\n",
    "\n",
    "    def __init__(self, d_model, nhead, dim_feedforward=2048, dropout=0.1, activation=\"relu\"):\n",
    "        super(TransformerEncoderLayer, self).__init__()\n",
    "        self.self_attn = MultiheadAttention(d_model, nhead, dropout=dropout)\n",
    "        # Implementation of Feedforward model\n",
    "        self.linear1 = Linear(d_model, dim_feedforward)\n",
    "        self.dropout = Dropout(dropout)\n",
    "        self.linear2 = Linear(dim_feedforward, d_model)\n",
    "\n",
    "        self.norm1 = LayerNorm(d_model)\n",
    "        self.norm2 = LayerNorm(d_model)\n",
    "        self.dropout1 = Dropout(dropout)\n",
    "        self.dropout2 = Dropout(dropout)\n",
    "\n",
    "        self.activation = _get_activation_fn(activation)\n",
    "\n",
    "    def __setstate__(self, state):\n",
    "        if 'activation' not in state:\n",
    "            state['activation'] = F.relu\n",
    "        super(TransformerEncoderLayer, self).__setstate__(state)\n",
    "\n",
    "    def forward(self, src, src_mask=None, src_key_padding_mask=None):\n",
    "        # type: (Tensor, Optional[Tensor], Optional[Tensor]) -> Tensor\n",
    "\n",
    "        src2 = self.self_attn(src, src, src, attn_mask=src_mask,\n",
    "                              key_padding_mask=src_key_padding_mask)[0]\n",
    "        src = src + self.dropout1(src2)\n",
    "        src = self.norm1(src)\n",
    "        src2 = self.linear2(self.dropout(self.activation(self.linear1(src))))\n",
    "        src = src + self.dropout2(src2)\n",
    "        src = self.norm2(src)\n",
    "        return src"
   ]
  },
  {
   "cell_type": "markdown",
   "metadata": {},
   "source": [
    "## 2. torch.nn.TransformerDecoderLayer(d_model, nhead, dim_feedforward=2048, dropout=0.1, activation='relu')\n",
    "\n",
    "TransformerDecoderLayer is made up of self-attn, multi-head-attn and feedforward network. This standard decoder layer is based on the paper “Attention Is All You Need”. Ashish Vaswani, Noam Shazeer, Niki Parmar, Jakob Uszkoreit, Llion Jones, Aidan N Gomez, Lukasz Kaiser, and Illia Polosukhin. 2017. Attention is all you need. In Advances in Neural Information Processing Systems, pages 6000-6010. Users may modify or implement in a different way during application.\n",
    "\n",
    "Parameters:\n",
    ">d_model – the number of expected features in the input (required).\\\n",
    "nhead – the number of heads in the multiheadattention models (required).\\\n",
    "dim_feedforward – the dimension of the feedforward network model (default=2048).\\\n",
    "dropout – the dropout value (default=0.1).\\\n",
    "activation – the activation function of intermediate layer, relu or gelu (default=relu).\n",
    "\n",
    "Examples:\n"
   ]
  },
  {
   "cell_type": "code",
   "execution_count": 49,
   "metadata": {},
   "outputs": [
    {
     "name": "stdout",
     "output_type": "stream",
     "text": [
      "torch.Size([20, 32, 512])\n"
     ]
    }
   ],
   "source": [
    "decoder_layer = nn.TransformerDecoderLayer(d_model=512, nhead=8)\n",
    "memory = torch.randn(10, 32, 512)\n",
    "tgt = torch.randn(20, 32, 512)\n",
    "out = decoder_layer(tgt, memory)\n",
    "print(out.size())"
   ]
  },
  {
   "cell_type": "markdown",
   "metadata": {},
   "source": [
    "forward(tgt, memory, tgt_mask=None, memory_mask=None, tgt_key_padding_mask=None, memory_key_padding_mask=None)\n",
    "Pass the inputs (and mask) through the decoder layer.\n",
    "\n",
    "Parameters:\n",
    ">tgt – the sequence to the decoder layer (required).\\\n",
    "memory – the sequence from the last layer of the encoder (required).\\\n",
    "tgt_mask – the mask for the tgt sequence (optional).\\\n",
    "memory_mask – the mask for the memory sequence (optional).\\\n",
    "tgt_key_padding_mask – the mask for the tgt keys per batch (optional).\\\n",
    "memory_key_padding_mask – the mask for the memory keys per batch (optional).\n",
    "\n",
    "\n",
    "SOURCE CODE"
   ]
  },
  {
   "cell_type": "code",
   "execution_count": 50,
   "metadata": {},
   "outputs": [],
   "source": [
    "class TransformerDecoderLayer(Module):\n",
    "    \n",
    "    def __init__(self, d_model, nhead, dim_feedforward=2048, dropout=0.1, activation=\"relu\"):\n",
    "        super(TransformerDecoderLayer, self).__init__()\n",
    "        self.self_attn = MultiheadAttention(d_model, nhead, dropout=dropout)\n",
    "        self.multihead_attn = MultiheadAttention(d_model, nhead, dropout=dropout)\n",
    "        # Implementation of Feedforward model\n",
    "        self.linear1 = Linear(d_model, dim_feedforward)\n",
    "        self.dropout = Dropout(dropout)\n",
    "        self.linear2 = Linear(dim_feedforward, d_model)\n",
    "\n",
    "        self.norm1 = LayerNorm(d_model)\n",
    "        self.norm2 = LayerNorm(d_model)\n",
    "        self.norm3 = LayerNorm(d_model)\n",
    "        self.dropout1 = Dropout(dropout)\n",
    "        self.dropout2 = Dropout(dropout)\n",
    "        self.dropout3 = Dropout(dropout)\n",
    "\n",
    "        self.activation = _get_activation_fn(activation)\n",
    "\n",
    "    def __setstate__(self, state):\n",
    "        if 'activation' not in state:\n",
    "            state['activation'] = F.relu\n",
    "        super(TransformerDecoderLayer, self).__setstate__(state)\n",
    "\n",
    "    def forward(self, tgt, memory, tgt_mask=None, memory_mask=None,\n",
    "                tgt_key_padding_mask=None, memory_key_padding_mask=None):\n",
    "        # type: (Tensor, Tensor, Optional[Tensor], Optional[Tensor], Optional[Tensor], Optional[Tensor]) -> Tensor\n",
    "        tgt2 = self.self_attn(tgt, tgt, tgt, attn_mask=tgt_mask,\n",
    "                              key_padding_mask=tgt_key_padding_mask)[0]\n",
    "        tgt = tgt + self.dropout1(tgt2)\n",
    "        tgt = self.norm1(tgt)\n",
    "        tgt2 = self.multihead_attn(tgt, memory, memory, attn_mask=memory_mask,\n",
    "                                   key_padding_mask=memory_key_padding_mask)[0]\n",
    "        tgt = tgt + self.dropout2(tgt2)\n",
    "        tgt = self.norm2(tgt)\n",
    "        tgt2 = self.linear2(self.dropout(self.activation(self.linear1(tgt))))\n",
    "        tgt = tgt + self.dropout3(tgt2)\n",
    "        tgt = self.norm3(tgt)\n",
    "        return tgt\n",
    "\n",
    "    def _get_clones(module, N):\n",
    "         return ModuleList([copy.deepcopy(module) for i in range(N)])\n",
    "\n",
    "    def _get_activation_fn(activation):\n",
    "        if activation == \"relu\":\n",
    "            return F.relu\n",
    "        elif activation == \"gelu\":\n",
    "            return F.gelu\n",
    "\n",
    "        raise RuntimeError(\"activation should be relu/gelu, not {}\".format(activation))\n"
   ]
  },
  {
   "cell_type": "markdown",
   "metadata": {},
   "source": [
    "# 3. torch.nn.TransformerEncoder(encoder_layer, num_layers, norm=None)\n",
    "TransformerEncoder is a stack of N encoder layers\n",
    "\n",
    "Paremeters:\n",
    ">encoder_layer – an instance of the TransformerEncoderLayer() class (required).\\\n",
    "num_layers – the number of sub-encoder-layers in the encoder (required).\\\n",
    "norm – the layer normalization component (optional).\n",
    "\n",
    "Examples:\n"
   ]
  },
  {
   "cell_type": "code",
   "execution_count": 51,
   "metadata": {},
   "outputs": [
    {
     "name": "stdout",
     "output_type": "stream",
     "text": [
      "torch.Size([10, 32, 512])\n"
     ]
    }
   ],
   "source": [
    "encoder_layer = nn.TransformerEncoderLayer(d_model=512, nhead=8)\n",
    "transformer_encoder = nn.TransformerEncoder(encoder_layer, num_layers=6)\n",
    "src = torch.randn(10, 32, 512)\n",
    "out = transformer_encoder(src)\n",
    "print(out.size())"
   ]
  },
  {
   "cell_type": "markdown",
   "metadata": {},
   "source": [
    "forward(src, mask=None, src_key_padding_mask=None)\n",
    "Pass the input through the encoder layers in turn.\n",
    "\n",
    "Parameters:\n",
    ">src – the sequence to the encoder (required).\\\n",
    "mask – the mask for the src sequence (optional).\\\n",
    "src_key_padding_mask – the mask for the src keys per batch (optional).\n",
    "\n",
    "\n",
    "SOURCE CODE"
   ]
  },
  {
   "cell_type": "code",
   "execution_count": 52,
   "metadata": {},
   "outputs": [],
   "source": [
    "class TransformerEncoder(Module):\n",
    "   \n",
    "    __constants__ = ['norm']\n",
    "\n",
    "    def __init__(self, encoder_layer, num_layers, norm=None):\n",
    "        super(TransformerEncoder, self).__init__()\n",
    "        self.layers = _get_clones(encoder_layer, num_layers)\n",
    "        self.num_layers = num_layers\n",
    "        self.norm = norm\n",
    "\n",
    "    def forward(self, src, mask=None, src_key_padding_mask=None):\n",
    "        # type: (Tensor, Optional[Tensor], Optional[Tensor]) -> Tensor\n",
    "        output = src\n",
    "\n",
    "        for mod in self.layers:\n",
    "            output = mod(output, src_mask=mask, src_key_padding_mask=src_key_padding_mask)\n",
    "\n",
    "        if self.norm is not None:\n",
    "            output = self.norm(output)\n",
    "\n",
    "        return output"
   ]
  },
  {
   "cell_type": "markdown",
   "metadata": {},
   "source": [
    "# 4. torch.nn.TransformerDecoder(decoder_layer, num_layers, norm=None)\n",
    "TransformerDecoder is a stack of N decoder layers\n",
    "\n",
    "Parameters:\n",
    ">decoder_layer – an instance of the TransformerDecoderLayer() class (required).\\\n",
    "num_layers – the number of sub-decoder-layers in the decoder (required).\\\n",
    "norm – the layer normalization component (optional).\n",
    "\n",
    "Examples:\n"
   ]
  },
  {
   "cell_type": "code",
   "execution_count": 53,
   "metadata": {},
   "outputs": [
    {
     "name": "stdout",
     "output_type": "stream",
     "text": [
      "torch.Size([20, 32, 512])\n"
     ]
    }
   ],
   "source": [
    "decoder_layer = nn.TransformerDecoderLayer(d_model=512, nhead=8)\n",
    "transformer_decoder = nn.TransformerDecoder(decoder_layer, num_layers=6)\n",
    "memory = torch.rand(10, 32, 512)\n",
    "tgt = torch.rand(20, 32, 512)\n",
    "out = transformer_decoder(tgt, memory)\n",
    "print(out.size())"
   ]
  },
  {
   "cell_type": "markdown",
   "metadata": {},
   "source": [
    "forward(tgt, memory, tgt_mask=None, memory_mask=None, tgt_key_padding_mask=None, memory_key_padding_mask=None)\n",
    "Pass the inputs (and mask) through the decoder layer in turn.\n",
    "\n",
    "Parameters:\n",
    ">tgt – the sequence to the decoder (required).\\\n",
    "memory – the sequence from the last layer of the encoder (required).\\\n",
    "tgt_mask – the mask for the tgt sequence (optional).\\\n",
    "memory_mask – the mask for the memory sequence (optional).\\\n",
    "tgt_key_padding_mask – the mask for the tgt keys per batch (optional).\\\n",
    "memory_key_padding_mask – the mask for the memory keys per batch (optional).\n",
    "\n",
    "SOURCE CODE"
   ]
  },
  {
   "cell_type": "code",
   "execution_count": 54,
   "metadata": {},
   "outputs": [],
   "source": [
    "class TransformerDecoder(Module):\n",
    "    \n",
    "    __constants__ = ['norm']\n",
    "\n",
    "    def __init__(self, decoder_layer, num_layers, norm=None):\n",
    "        super(TransformerDecoder, self).__init__()\n",
    "        self.layers = _get_clones(decoder_layer, num_layers)\n",
    "        self.num_layers = num_layers\n",
    "        self.norm = norm\n",
    "\n",
    "    def forward(self, tgt, memory, tgt_mask=None,\n",
    "                memory_mask=None, tgt_key_padding_mask=None,\n",
    "                memory_key_padding_mask=None):\n",
    "        # type: (Tensor, Tensor, Optional[Tensor], Optional[Tensor], Optional[Tensor], Optional[Tensor]) -> Tensor\n",
    "        \n",
    "        output = tgt\n",
    "\n",
    "        for mod in self.layers:\n",
    "            output = mod(output, memory, tgt_mask=tgt_mask,\n",
    "                         memory_mask=memory_mask,\n",
    "                         tgt_key_padding_mask=tgt_key_padding_mask,\n",
    "                         memory_key_padding_mask=memory_key_padding_mask)\n",
    "\n",
    "        if self.norm is not None:\n",
    "            output = self.norm(output)\n",
    "\n",
    "        return output"
   ]
  },
  {
   "cell_type": "markdown",
   "metadata": {},
   "source": [
    "\n",
    "# 5. torch.nn.Transformer(d_model=512, nhead=8, num_encoder_layers=6, num_decoder_layers=6, dim_feedforward=2048, dropout=0.1, activation='relu', custom_encoder=None, custom_decoder=None)\n",
    "A transformer model. User is able to modify the attributes as needed. The architecture is based on the paper “Attention Is All You Need”. Ashish Vaswani, Noam Shazeer, Niki Parmar, Jakob Uszkoreit, Llion Jones, Aidan N Gomez, Lukasz Kaiser, and Illia Polosukhin. 2017. Attention is all you need. In Advances in Neural Information Processing Systems, pages 6000-6010. Users can build the BERT(https://arxiv.org/abs/1810.04805) \n",
    "model with corresponding parameters.\n",
    "\n",
    "Parameters:\n",
    ">d_model – the number of expected features in the encoder/decoder inputs (default=512).\\\n",
    "nhead – the number of heads in the multiheadattention models (default=8).\\\n",
    "num_encoder_layers – the number of sub-encoder-layers in the encoder (default=6).\\\n",
    "num_decoder_layers – the number of sub-decoder-layers in the decoder (default=6).\\\n",
    "dim_feedforward – the dimension of the feedforward network model (default=2048).\\\n",
    "dropout – the dropout value (default=0.1).\\\n",
    "activation – the activation function of encoder/decoder intermediate layer, relu or gelu (default=relu).\\\n",
    "custom_encoder – custom encoder (default=None).\\\n",
    "custom_decoder – custom decoder (default=None).\n",
    "\n",
    "Examples:"
   ]
  },
  {
   "cell_type": "code",
   "execution_count": 55,
   "metadata": {},
   "outputs": [
    {
     "name": "stdout",
     "output_type": "stream",
     "text": [
      "torch.Size([20, 32, 512])\n"
     ]
    }
   ],
   "source": [
    "transformer_model = nn.Transformer(nhead=16, num_encoder_layers=12)\n",
    "src = torch.rand(10, 32, 512)\n",
    "tgt = torch.rand(20, 32, 512)\n",
    "out = transformer_model(src, tgt)\n",
    "print(out.size())"
   ]
  },
  {
   "cell_type": "markdown",
   "metadata": {},
   "source": [
    "### Note: A full example to apply nn.Transformer module for the word language model is available in \n",
    "https://github.com/pytorch/examples/tree/master/word_language_model\n",
    "\n",
    "forward(src, tgt, src_mask=None, tgt_mask=None, memory_mask=None, src_key_padding_mask=None, tgt_key_padding_mask=None, memory_key_padding_mask=None)\n",
    "Take in and process masked source/target sequences.\n",
    "\n",
    "Parameters:\n",
    "\n",
    ">src – the sequence to the encoder (required).\\\n",
    "tgt – the sequence to the decoder (required).\\\n",
    "src_mask – the additive mask for the src sequence (optional).\\\n",
    "tgt_mask – the additive mask for the tgt sequence (optional).\\\n",
    "memory_mask – the additive mask for the encoder output (optional).\\\n",
    "src_key_padding_mask – the ByteTensor mask for src keys per batch (optional).\\\n",
    "tgt_key_padding_mask – the ByteTensor mask for tgt keys per batch (optional).\\\n",
    "memory_key_padding_mask – the ByteTensor mask for memory keys per batch (optional).\n"
   ]
  },
  {
   "cell_type": "markdown",
   "metadata": {},
   "source": [
    "Shape:\n",
    "### src: **(S, N, E)**.\n",
    "### tgt: **(T, N, E)**.\n",
    "### src_mask:**(S, S)**.\n",
    "### tgt_mask: **(T, T)**.\n",
    "### memory_mask: **(T, S)**.\n",
    "\n",
    "### src_key_padding_mask: **(N, S)**.\n",
    "\n",
    "### tgt_key_padding_mask: **(N, T)**.\n",
    "\n",
    "### memory_key_padding_mask: **(N, S)**.\n",
    "\n",
    "Note: [src/tgt/memory]_mask should be filled with float(‘-inf’) for the masked positions and float(0.0) else. These masks ensure that predictions for position i depend only on the unmasked positions j and are applied identically for each sequence in a batch. [src/tgt/memory]_key_padding_mask should be a ByteTensor where True values are positions that should be masked with float(‘-inf’) and False values will be unchanged. This mask ensures that no information will be taken from position i if it is masked, and has a separate mask for each sequence in a batch.\n",
    "\n",
    "### output:**(T, N, E)**.\n",
    "\n",
    "Note: Due to the multi-head attention architecture in the transformer model, the output sequence length of a transformer is same as the input sequence (i.e. target) length of the decode.\n",
    "\n",
    "where **S** is the source sequence length, **T** is the target sequence length, **N** is the batch size, **E** is the feature number\n",
    "\n",
    "Examples:\n",
    "\n",
    "output = transformer_model(src, tgt, src_mask=src_mask, tgt_mask=tgt_mask)\n",
    "\n",
    "### generate_square_subsequent_mask(sz)\n",
    "\n",
    "Generate a square mask for the sequence. The masked positions are filled with float(‘-inf’). Unmasked positions are filled with float(0.0).\n",
    "\n",
    "SOURCE CODE\n"
   ]
  },
  {
   "cell_type": "code",
   "execution_count": null,
   "metadata": {},
   "outputs": [],
   "source": [
    "\n",
    "class Transformer(Module):\n",
    "    def __init__(self, d_model=512, nhead=8, num_encoder_layers=6,\n",
    "                 num_decoder_layers=6, dim_feedforward=2048, dropout=0.1,\n",
    "                 activation=\"relu\", custom_encoder=None, custom_decoder=None):\n",
    "        super(Transformer, self).__init__()\n",
    "\n",
    "        if custom_encoder is not None:\n",
    "            self.encoder = custom_encoder\n",
    "        else:\n",
    "            encoder_layer = TransformerEncoderLayer(d_model, nhead, dim_feedforward, dropout, activation)\n",
    "            encoder_norm = LayerNorm(d_model)\n",
    "            self.encoder = TransformerEncoder(encoder_layer, num_encoder_layers, encoder_norm)\n",
    "\n",
    "        if custom_decoder is not None:\n",
    "            self.decoder = custom_decoder\n",
    "        else:\n",
    "            decoder_layer = TransformerDecoderLayer(d_model, nhead, dim_feedforward, dropout, activation)\n",
    "            decoder_norm = LayerNorm(d_model)\n",
    "            self.decoder = TransformerDecoder(decoder_layer, num_decoder_layers, decoder_norm)\n",
    "\n",
    "        self._reset_parameters()\n",
    "\n",
    "        self.d_model = d_model\n",
    "        self.nhead = nhead\n",
    "\n",
    "    def forward(self, src, tgt, src_mask=None, tgt_mask=None,\n",
    "                memory_mask=None, src_key_padding_mask=None,\n",
    "                tgt_key_padding_mask=None, memory_key_padding_mask=None):\n",
    "        # type: (Tensor, Tensor, Optional[Tensor], Optional[Tensor], Optional[Tensor], Optional[Tensor], Optional[Tensor], Optional[Tensor]) -> Tensor  # noqa\n",
    "        if src.size(1) != tgt.size(1):\n",
    "            raise RuntimeError(\"the batch number of src and tgt must be equal\")\n",
    "\n",
    "        if src.size(2) != self.d_model or tgt.size(2) != self.d_model:\n",
    "            raise RuntimeError(\"the feature number of src and tgt must be equal to d_model\")\n",
    "\n",
    "        memory = self.encoder(src, mask=src_mask, src_key_padding_mask=src_key_padding_mask)\n",
    "        output = self.decoder(tgt, memory, tgt_mask=tgt_mask, memory_mask=memory_mask,\n",
    "                              tgt_key_padding_mask=tgt_key_padding_mask,\n",
    "                              memory_key_padding_mask=memory_key_padding_mask)\n",
    "        return output\n",
    "\n",
    "    def generate_square_subsequent_mask(self, sz):\n",
    "        r\"\"\"Generate a square mask for the sequence. The masked positions are filled with float('-inf').\n",
    " Unmasked positions are filled with float(0.0).\n",
    " \"\"\"\n",
    "        mask = (torch.triu(torch.ones(sz, sz)) == 1).transpose(0, 1)\n",
    "        mask = mask.float().masked_fill(mask == 0, float('-inf')).masked_fill(mask == 1, float(0.0))\n",
    "        return mask\n",
    "\n",
    "    def _reset_parameters(self):\n",
    "        r\"\"\"Initiate parameters in the transformer model.\"\"\"\n",
    "\n",
    "        for p in self.parameters():\n",
    "            if p.dim() > 1:\n",
    "                xavier_uniform_(p)"
   ]
  },
  {
   "cell_type": "markdown",
   "metadata": {},
   "source": [
    "## ISSUES\n",
    "The generate_square_subsequent_mask function in nn.Transformer can only generate square masks, but memory_mask requires the dimension **(T, S)**. I am wondering is there a built in function in transformer?? Thank you!\n"
   ]
  },
  {
   "cell_type": "code",
   "execution_count": 57,
   "metadata": {},
   "outputs": [
    {
     "name": "stdout",
     "output_type": "stream",
     "text": [
      "tensor([[ True, False, False, False, False],\n",
      "        [ True,  True, False, False, False],\n",
      "        [ True,  True,  True, False, False],\n",
      "        [ True,  True,  True,  True, False]])\n"
     ]
    },
    {
     "data": {
      "text/plain": [
       "tensor([[0., -inf, -inf, -inf, -inf],\n",
       "        [0., 0., -inf, -inf, -inf],\n",
       "        [0., 0., 0., -inf, -inf],\n",
       "        [0., 0., 0., 0., -inf]])"
      ]
     },
     "execution_count": 57,
     "metadata": {},
     "output_type": "execute_result"
    }
   ],
   "source": [
    "def _generate_subsequent_mask(tgt_sz, src_sz):\n",
    "    mask = (torch.triu(torch.ones(src_sz, tgt_sz)) == 1).transpose(0, 1)\n",
    "    print(mask)\n",
    "    mask = mask.float().masked_fill(mask == 0, float('-inf')).masked_fill(mask == 1, float(0.0))\n",
    "    return mask\n",
    "\n",
    "_generate_subsequent_mask(4, 5)\n"
   ]
  },
  {
   "cell_type": "markdown",
   "metadata": {},
   "source": [
    "\n",
    "### Answer 1.\n",
    "\n",
    "You don’t need to use memory_mask unless you want to prevent the decoder from attending some tokens in the input sequence, and the original Transformer didn’t use it in the first place because the decoder should be aware of the entire input sequence for any token in the output sequence. The same thing can be said to the input sequence (i.e., src_mask.)\n",
    "\n",
    "In the PyTorch language, the original Transformer settings are src_mask=None and memory_mask=None, and for tgt_mask=generate_square_subsequent_mask(T).\n",
    "\n",
    "Again, memory_mask is used only when you don’t want to let the decoder attend certain tokens in the input sequence. That is why the input shape is  (where T is output sequence length and S is input sequence length.)\n",
    "\n",
    "### 2. How to add padding mask to nn.TransformerEncoder module? More\n",
    "\n"
   ]
  },
  {
   "cell_type": "code",
   "execution_count": 58,
   "metadata": {},
   "outputs": [
    {
     "data": {
      "text/plain": [
       "tensor([[False, False, False, False, False, False],\n",
       "        [False, False, False, False,  True,  True],\n",
       "        [False, False, False,  True,  True,  True],\n",
       "        [False, False,  True,  True,  True,  True]])"
      ]
     },
     "execution_count": 58,
     "metadata": {},
     "output_type": "execute_result"
    }
   ],
   "source": [
    "def _generate_key_padding_mask(include_length): # return (N,L)\n",
    "    max_length = torch.max(include_length)\n",
    "    mask = torch.stack([torch.arange(max_length)>=i for i in include_length])\n",
    "    return mask\n",
    "    \n",
    "include_length = torch.tensor([6, 4, 3, 2])\n",
    "\n",
    "_generate_key_padding_mask(include_length)"
   ]
  },
  {
   "cell_type": "markdown",
   "metadata": {},
   "source": [
    "### 3. How to turn a list of tensor to tensor?\n"
   ]
  },
  {
   "cell_type": "code",
   "execution_count": 41,
   "metadata": {},
   "outputs": [
    {
     "name": "stdout",
     "output_type": "stream",
     "text": [
      "[tensor([False, False, False, False, False, False]), tensor([False, False, False, False,  True,  True]), tensor([False, False, False,  True,  True,  True]), tensor([False, False,  True,  True,  True,  True])]\n"
     ]
    },
    {
     "data": {
      "text/plain": [
       "tensor([[False, False, False, False, False, False],\n",
       "        [False, False, False, False,  True,  True],\n",
       "        [False, False, False,  True,  True,  True],\n",
       "        [False, False,  True,  True,  True,  True]])"
      ]
     },
     "execution_count": 41,
     "metadata": {},
     "output_type": "execute_result"
    }
   ],
   "source": [
    "def _generate_key_padding_mask(include_length): # return (N,L)\n",
    "    max_length = torch.max(include_length)\n",
    "    print([torch.arange(max_length)>=i for i in include_length])\n",
    "    mask = torch.stack([torch.arange(max_length)>=i for i in include_length])\n",
    "    return mask\n",
    "    \n",
    "include_length = torch.tensor([6, 4, 3, 2])\n",
    "_generate_key_padding_mask(include_length)"
   ]
  }
 ],
 "metadata": {
  "kernelspec": {
   "display_name": "Python 3",
   "language": "python",
   "name": "python3"
  },
  "language_info": {
   "codemirror_mode": {
    "name": "ipython",
    "version": 3
   },
   "file_extension": ".py",
   "mimetype": "text/x-python",
   "name": "python",
   "nbconvert_exporter": "python",
   "pygments_lexer": "ipython3",
   "version": "3.7.9"
  }
 },
 "nbformat": 4,
 "nbformat_minor": 4
}
